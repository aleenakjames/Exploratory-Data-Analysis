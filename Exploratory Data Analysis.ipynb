{
 "cells": [
  {
   "cell_type": "code",
   "execution_count": 2,
   "id": "93ecc7b7",
   "metadata": {},
   "outputs": [
    {
     "name": "stdout",
     "output_type": "stream",
     "text": [
      "           Date        Open        High         Low       Close    Volume  \\\n",
      "0     6/29/2010   19.000000   25.000000   17.540001   23.889999  18766300   \n",
      "1     6/30/2010   25.790001   30.420000   23.299999   23.830000  17187100   \n",
      "2      7/1/2010   25.000000   25.920000   20.270000   21.959999   8218800   \n",
      "3      7/2/2010   23.000000   23.100000   18.709999   19.200001   5139800   \n",
      "4      7/6/2010   20.000000   20.000000   15.830000   16.110001   6866900   \n",
      "...         ...         ...         ...         ...         ...       ...   \n",
      "1687  3/13/2017  244.820007  246.850006  242.779999  246.169998   3010700   \n",
      "1688  3/14/2017  246.110001  258.119995  246.020004  258.000000   7575500   \n",
      "1689  3/15/2017  257.000000  261.000000  254.270004  255.729996   4816600   \n",
      "1690  3/16/2017  262.399994  265.750000  259.059998  262.049988   7100400   \n",
      "1691  3/17/2017  264.000000  265.329987  261.200012  261.500000   6475900   \n",
      "\n",
      "       Adj Close  \n",
      "0      23.889999  \n",
      "1      23.830000  \n",
      "2      21.959999  \n",
      "3      19.200001  \n",
      "4      16.110001  \n",
      "...          ...  \n",
      "1687  246.169998  \n",
      "1688  258.000000  \n",
      "1689  255.729996  \n",
      "1690  262.049988  \n",
      "1691  261.500000  \n",
      "\n",
      "[1692 rows x 7 columns]\n"
     ]
    }
   ],
   "source": [
    "import pandas as pd\n",
    "import matplotlib.pyplot as plt\n",
    "\n",
    "df = pd.read_csv('Tesla.csv')\n",
    "printdf)"
   ]
  },
  {
   "cell_type": "code",
   "execution_count": 3,
   "id": "e6a9b700",
   "metadata": {},
   "outputs": [
    {
     "name": "stdout",
     "output_type": "stream",
     "text": [
      "<class 'pandas.core.frame.DataFrame'>\n",
      "RangeIndex: 1692 entries, 0 to 1691\n",
      "Data columns (total 7 columns):\n",
      " #   Column     Non-Null Count  Dtype  \n",
      "---  ------     --------------  -----  \n",
      " 0   Date       1692 non-null   object \n",
      " 1   Open       1692 non-null   float64\n",
      " 2   High       1692 non-null   float64\n",
      " 3   Low        1692 non-null   float64\n",
      " 4   Close      1692 non-null   float64\n",
      " 5   Volume     1692 non-null   int64  \n",
      " 6   Adj Close  1692 non-null   float64\n",
      "dtypes: float64(5), int64(1), object(1)\n",
      "memory usage: 92.7+ KB\n",
      "None\n"
     ]
    }
   ],
   "source": [
    "print(df.info())"
   ]
  },
  {
   "cell_type": "code",
   "execution_count": 4,
   "id": "3b5af89a",
   "metadata": {},
   "outputs": [
    {
     "name": "stdout",
     "output_type": "stream",
     "text": [
      "(1692, 7)\n"
     ]
    }
   ],
   "source": [
    "print(df.shape)"
   ]
  },
  {
   "cell_type": "code",
   "execution_count": 5,
   "id": "7000616b",
   "metadata": {},
   "outputs": [
    {
     "name": "stdout",
     "output_type": "stream",
     "text": [
      "11844\n"
     ]
    }
   ],
   "source": [
    "print(df.size)"
   ]
  },
  {
   "cell_type": "code",
   "execution_count": null,
   "id": "aafe1871",
   "metadata": {},
   "outputs": [],
   "source": []
  }
 ],
 "metadata": {
  "kernelspec": {
   "display_name": "Python 3",
   "language": "python",
   "name": "python3"
  },
  "language_info": {
   "codemirror_mode": {
    "name": "ipython",
    "version": 3
   },
   "file_extension": ".py",
   "mimetype": "text/x-python",
   "name": "python",
   "nbconvert_exporter": "python",
   "pygments_lexer": "ipython3",
   "version": "3.9.12"
  }
 },
 "nbformat": 4,
 "nbformat_minor": 5
}
